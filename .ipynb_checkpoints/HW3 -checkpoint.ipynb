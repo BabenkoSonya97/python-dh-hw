{
 "cells": [
  {
   "cell_type": "code",
   "execution_count": 11,
   "metadata": {
    "collapsed": true
   },
   "outputs": [],
   "source": [
    "import pandas as pd\n",
    "import numpy as np\n",
    "from matplotlib import pyplot as plt"
   ]
  },
  {
   "cell_type": "markdown",
   "metadata": {},
   "source": [
    "# Задача 1"
   ]
  },
  {
   "cell_type": "code",
   "execution_count": 38,
   "metadata": {},
   "outputs": [
    {
     "name": "stdout",
     "output_type": "stream",
     "text": [
      "  _~_      _~_      _~_      _~_      _~_      _~_      _~_      _~_      _~_      _~_      _~_      _~_      _~_    \n",
      " (o o)    (o o)    (o o)    (o o)    (o o)    (o o)    (o o)    (o o)    (o o)    (o o)    (o o)    (o o)    (o o)   \n",
      " / V \\    / V \\    / V \\    / V \\    / V \\    / V \\    / V \\    / V \\    / V \\    / V \\    / V \\    / V \\    / V \\   \n",
      "/( _ )\\  /( _ )\\  /( _ )\\  /( _ )\\  /( _ )\\  /( _ )\\  /( _ )\\  /( _ )\\  /( _ )\\  /( _ )\\  /( _ )\\  /( _ )\\  /( _ )\\  \n",
      " ^^ ^^    ^^ ^^    ^^ ^^    ^^ ^^    ^^ ^^    ^^ ^^    ^^ ^^    ^^ ^^    ^^ ^^    ^^ ^^    ^^ ^^    ^^ ^^    ^^ ^^   "
     ]
    }
   ],
   "source": [
    "# Рисуем пингвинов\n",
    "\n",
    "n = 13\n",
    "p1 = '  _~_   ' \n",
    "p2 = ' (o o)  ' \n",
    "p3 = ' / V \\\\  ' \n",
    "p4 = '/( _ )\\\\ ' \n",
    "p5 = ' ^^ ^^  ' \n",
    "\n",
    "for i in range(n):\n",
    "    print(p1, end=' ')\n",
    "print() \n",
    "\n",
    "for i in range(n):\n",
    "    print(p2, end=' ')\n",
    "print()\n",
    "    \n",
    "for i in range(n):\n",
    "    print(p3, end=' ')\n",
    "print()\n",
    "    \n",
    "for i in range(n):\n",
    "    print(p4, end=' ')\n",
    "print()\n",
    "    \n",
    "for i in range(n):\n",
    "    print(p5, end=' ')"
   ]
  },
  {
   "cell_type": "markdown",
   "metadata": {},
   "source": [
    "# Задача 2"
   ]
  },
  {
   "cell_type": "code",
   "execution_count": 2,
   "metadata": {},
   "outputs": [
    {
     "name": "stdout",
     "output_type": "stream",
     "text": [
      "5\n",
      "Hello. This is my solution\n"
     ]
    }
   ],
   "source": [
    "# Считаем пробелы в строке. Тогда их количество + 1 и будет количесвтом слов в строке\n",
    "s = 'Hello. This is my solution'\n",
    "print(s.count(' ') + 1)\n",
    "print(s)"
   ]
  },
  {
   "cell_type": "markdown",
   "metadata": {},
   "source": [
    "## Задача 3"
   ]
  },
  {
   "cell_type": "code",
   "execution_count": 46,
   "metadata": {},
   "outputs": [
    {
     "name": "stdout",
     "output_type": "stream",
     "text": [
      "10\n"
     ]
    }
   ],
   "source": [
    "# Решаем уравнение y = 2 * x 2\n",
    "x = 5\n",
    "y = 2 * x\n",
    "print(y)"
   ]
  }
 ],
 "metadata": {
  "kernelspec": {
   "display_name": "Python 3",
   "language": "python",
   "name": "python3"
  },
  "language_info": {
   "codemirror_mode": {
    "name": "ipython",
    "version": 3
   },
   "file_extension": ".py",
   "mimetype": "text/x-python",
   "name": "python",
   "nbconvert_exporter": "python",
   "pygments_lexer": "ipython3",
   "version": "3.6.3"
  }
 },
 "nbformat": 4,
 "nbformat_minor": 2
}
